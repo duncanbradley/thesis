{
 "cells": [
  {
   "cell_type": "code",
   "execution_count": 50,
   "id": "c00e037f",
   "metadata": {},
   "outputs": [],
   "source": [
    "from colorspacious import cspace_convert\n",
    "import matplotlib as mpl\n",
    "import numpy as np\n",
    "import pandas as pd\n",
    "\n",
    "def df_Lab(colormap, colorname):\n",
    "    \n",
    "    extend_rgb = colormap[[0, -1], :3]  # Get the first and last RGB values for extend\n",
    "    \n",
    "    trunc_colors = colormap[0:halfway]\n",
    "    trunc_rgb = trunc_colors[[0, -1], :3]  # Get the first and last RGB values for trunc\n",
    "    \n",
    "    extend_Lab = cspace_convert(extend_rgb, \"sRGB1\", {\"name\": \"CIELab\", \"XYZ100_w\": \"D65\"})\n",
    "    trunc_Lab = cspace_convert(trunc_rgb, \"sRGB1\", {\"name\": \"CIELab\", \"XYZ100_w\": \"D65\"})\n",
    "    \n",
    "    # By default, the string \"CIELab\" in cspace_convert() expands to: {\"name\": \"CIELab\", \"XYZ100_w\": \"D65\"}\n",
    "    \n",
    "    # Create a dataframe with the colorname, length, and RGB values\n",
    "    df = pd.DataFrame({\n",
    "        'colorname': [colorname] * 4,\n",
    "        'length': ['trunc', 'trunc', 'extend', 'extend'],\n",
    "        'position': ['first', 'last', 'first', 'last'],\n",
    "        'L': np.concatenate((trunc_Lab[:, 0], extend_Lab[:, 0])),\n",
    "        'a': np.concatenate((trunc_Lab[:, 1], extend_Lab[:, 1])),\n",
    "        'b': np.concatenate((trunc_Lab[:, 2], extend_Lab[:, 2]))\n",
    "    })\n",
    "    \n",
    "    return df\n"
   ]
  },
  {
   "cell_type": "code",
   "execution_count": 76,
   "id": "6636101e",
   "metadata": {},
   "outputs": [],
   "source": [
    "splits = 1000\n",
    "halfway = int(splits / 2)\n",
    "\n",
    "colormaps = ['Reds', 'Greys', 'Purples', 'Blues', 'Greens', 'Oranges']\n",
    "\n",
    "dfs = []\n",
    "\n",
    "for colormap in colormaps:    \n",
    "    df = df_Lab(mpl.colormaps[colormap](np.linspace(0, 1, splits)), colormap)\n",
    "    dfs.append(df)\n",
    "\n",
    "combined_df = pd.concat(dfs, ignore_index=True)\n",
    "combined_df.to_csv('Lab.csv', index=False)"
   ]
  },
  {
   "cell_type": "code",
   "execution_count": null,
   "id": "168c19ab",
   "metadata": {},
   "outputs": [],
   "source": [
    "# NOT USED: for outputting individual values to global environment\n",
    "# initally developed for use in Quarto, but inline code syntax is incompatible with engine used to run python code\n",
    "\n",
    "# splits = 1000\n",
    "# halfway = int(splits / 2)\n",
    "\n",
    "# Reds = mpl.cm.Reds(np.linspace(0, 1, splits))\n",
    "# Greys = mpl.cm.Greys(np.linspace(0, 1, splits))\n",
    "# Purples = mpl.cm.Purples(np.linspace(0, 1, splits))\n",
    "# Blues = mpl.cm.Blues(np.linspace(0, 1, splits))\n",
    "# Greens = mpl.cm.Greens(np.linspace(0, 1, splits))\n",
    "# Oranges = mpl.cm.Oranges(np.linspace(0, 1, splits))\n",
    "\n",
    "# def CIELab_firstlast(rgb_array, colorname, condition):\n",
    "#   first = cspace_convert(rgb_array[0:1, :], \"sRGB1\", \"CIELab\", XYZ100_w = \"D65\")\n",
    "#   last = cspace_convert(rgb_array[-1:, :], \"sRGB1\", \"CIELab\", XYZ100_w = \"D65\")\n",
    "#   globals()[f\"{colorname}_{condition}_first\"] = first\n",
    "#   globals()[f\"{colorname}_{condition}_last\"] = last\n",
    "    \n",
    "# def convert_Lab(colormap, colorname):\n",
    "  \n",
    "#   # remove alpha channel for extended colormap\n",
    "#   rgb_extend = colormap[:, :3]\n",
    "  \n",
    "#   # generate truncated colormap\n",
    "#   rgb_trunc = rgb_extend[0:halfway, :]\n",
    "  \n",
    "#   CIELab_firstlast(rgb_extend, colorname, \"extend\")\n",
    "#   CIELab_firstlast(rgb_trunc, colorname, \"trunc\")\n",
    "\n",
    "# convert_Lab(Reds, \"Reds\")\n",
    "# convert_Lab(Blues, \"Blues\")"
   ]
  }
 ],
 "metadata": {
  "kernelspec": {
   "display_name": "Python 3 (ipykernel)",
   "language": "python",
   "name": "python3"
  },
  "language_info": {
   "codemirror_mode": {
    "name": "ipython",
    "version": 3
   },
   "file_extension": ".py",
   "mimetype": "text/x-python",
   "name": "python",
   "nbconvert_exporter": "python",
   "pygments_lexer": "ipython3",
   "version": "3.11.4"
  }
 },
 "nbformat": 4,
 "nbformat_minor": 5
}
